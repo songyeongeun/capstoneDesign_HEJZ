{
 "cells": [
  {
   "cell_type": "code",
   "execution_count": 3,
   "id": "f4d849ee-e040-4145-964a-7de148dde0b0",
   "metadata": {},
   "outputs": [
    {
     "name": "stdout",
     "output_type": "stream",
     "text": [
      "✅ 새로운 emotion_table.csv 저장 완료: C:\\Users\\SongYoengEun\\Desktop\\cap\\emotion_table.csv\n"
     ]
    }
   ],
   "source": [
    "# 감정 테이블 생성 및 저장\n",
    "# 감정 이름 리스트를 새로 정의하고, ID를 부여해 emotion_table.csv 파일 생성\n",
    "#이 감정들은 이후 genre_emotion_map에서 ID로 참조됨\n",
    "\n",
    "import pandas as pd\n",
    "\n",
    "# 새 감정 테이블\n",
    "new_emotions = [\n",
    "    \"행복\", \"슬픔\", \"분노\", \"공포\", \"놀람\", \"혐오\", \"사랑\",\n",
    "    \"희망\", \"열정\", \"자신감\", \"매혹\", \"도전\", \"차분함\"\n",
    "]\n",
    "# ID 부여\n",
    "emotion_df = pd.DataFrame({\n",
    "    \"ID\": range(1, len(new_emotions) + 1),\n",
    "    \"NAME\": new_emotions\n",
    "})\n",
    "\n",
    "# 저장 경로\n",
    "save_path = r\"C:\\Users\\SongYoengEun\\Desktop\\cap\\emotion_table.csv\"\n",
    "emotion_df.to_csv(save_path, index=False, encoding=\"utf-8-sig\")\n",
    "print(f\"새로운 emotion_table.csv 저장 완료: {save_path}\")\n"
   ]
  },
  {
   "cell_type": "code",
   "execution_count": 5,
   "id": "08349695-a6c1-4db5-af07-d48532163c26",
   "metadata": {},
   "outputs": [
    {
     "data": {
      "text/plain": [
       "'C:\\\\Users\\\\SongYoengEun\\\\Desktop\\\\cap\\\\emotion_motion_table.csv'"
      ]
     },
     "execution_count": 5,
     "metadata": {},
     "output_type": "execute_result"
    }
   ],
   "source": [
    "# 장르별 대표 감정 지정 및 감정-모션 테이블 생성\n",
    "\n",
    "import pandas as pd\n",
    "\n",
    "# 장르별 대표 감정 매핑 (감정명 -> ID는 주어진 감정 테이블 기준)\n",
    "genre_emotion_map = {\n",
    "    \"gBR\": [9, 12, 10],  # Breakdance\n",
    "    \"gPO\": [13, 9, 6],   # Pop (혐오 추가)\n",
    "    \"gLO\": [1, 10, 11],  # Lock\n",
    "    \"gWA\": [7, 10, 11],  # Waack\n",
    "    \"gHO\": [1, 9, 5],    # House (놀람 추가)\n",
    "    \"gKR\": [3, 9, 4],    # Krump (공포 추가)\n",
    "    \"gJS\": [9, 7, 11],   # Jazz\n",
    "    \"gLH\": [10, 9, 13],  # LA_Hiphop\n",
    "    \"gMH\": [3, 10, 4],   # Middle_Hiphop (공포 추가)\n",
    "    \"gJB\": [8, 7, 2],    # Ballet_Jazz (슬픔 추가)\n",
    "}\n",
    "\n",
    "# CSV 파일 불러오기\n",
    "metadata_path = r\"C:\\Users\\SongYoengEun\\Desktop\\cap\\motion_metadata.csv\"\n",
    "metadata_df = pd.read_csv(metadata_path)\n",
    "\n",
    "# MOTION_ID → ID 매핑을 위해 인덱스 부여\n",
    "metadata_df = metadata_df.reset_index().rename(columns={\"index\": \"ID\"})\n",
    "metadata_df[\"ID\"] += 1  # 1부터 시작\n",
    "\n",
    "# 결과 생성\n",
    "records = []\n",
    "record_id = 1\n",
    "for _, row in metadata_df.iterrows():\n",
    "    genre_code = row[\"GENRE_CODE\"]\n",
    "    motion_id = row[\"ID\"]  # motion_metadata 테이블의 ID 기준\n",
    "    emotions = genre_emotion_map.get(genre_code, [])\n",
    "    for emo_id in emotions:\n",
    "        records.append({\n",
    "            \"ID\": record_id,\n",
    "            \"EMOTION_ID\": emo_id,\n",
    "            \"MOTION_ID\": motion_id\n",
    "        })\n",
    "        record_id += 1\n",
    "\n",
    "# DataFrame 생성\n",
    "emotion_motion_df = pd.DataFrame(records)\n",
    "\n",
    "# 저장 경로\n",
    "save_path = r\"C:\\Users\\SongYoengEun\\Desktop\\cap\\emotion_motion_table.csv\"\n",
    "emotion_motion_df.to_csv(save_path, index=False, encoding=\"utf-8-sig\")\n",
    "save_path\n"
   ]
  },
  {
   "cell_type": "code",
   "execution_count": 9,
   "id": "31073cbe-d784-46db-b540-db18da1be0ff",
   "metadata": {},
   "outputs": [
    {
     "name": "stdout",
     "output_type": "stream",
     "text": [
      "📊 감정 개수 분포 (motion_id당):\n",
      "EMOTION_ID\n",
      "3    1408\n",
      "Name: count, dtype: int64\n",
      "✅ 저장 완료: C:\\Users\\SongYoengEun\\Desktop\\cap\\emotion_motion_table.csv\n"
     ]
    }
   ],
   "source": [
    "import pandas as pd\n",
    "\n",
    "# 장르별 대표 감정 매핑 (감정명 → emotion_table 기준 ID)\n",
    "genre_emotion_map = {\n",
    "    \"gBR\": [9, 12, 10],  # Breakdance\n",
    "    \"gPO\": [13, 9, 6],   # Pop (혐오)\n",
    "    \"gLO\": [1, 10, 11],  # Lock\n",
    "    \"gWA\": [7, 10, 11],  # Waack\n",
    "    \"gHO\": [1, 9, 5],    # House (놀람)\n",
    "    \"gKR\": [3, 9, 4],    # Krump (공포)\n",
    "    \"gJS\": [9, 7, 11],   # Jazz\n",
    "    \"gLH\": [10, 9, 13],  # LA_Hiphop\n",
    "    \"gMH\": [3, 10, 4],   # Middle_Hiphop (공포)\n",
    "    \"gJB\": [8, 7, 2],    # Ballet_Jazz (슬픔)\n",
    "}\n",
    "\n",
    "# motion_metadata.csv 불러오기\n",
    "metadata_path = r\"C:\\Users\\SongYoengEun\\Desktop\\cap\\motion_metadata.csv\"\n",
    "metadata_df = pd.read_csv(metadata_path)\n",
    "\n",
    "# MOTION_ID → ID 부여 (1부터 시작)\n",
    "metadata_df = metadata_df.reset_index().rename(columns={\"index\": \"ID\"})\n",
    "metadata_df[\"ID\"] += 1  # 1부터 시작\n",
    "\n",
    "# 감정-모션 테이블 생성\n",
    "records = []\n",
    "record_id = 1\n",
    "for _, row in metadata_df.iterrows():\n",
    "    genre_code = row[\"GENRE_CODE\"]\n",
    "    motion_id = row[\"ID\"]\n",
    "    emotions = genre_emotion_map.get(genre_code, [])\n",
    "    \n",
    "    for emo_id in emotions:\n",
    "        records.append({\n",
    "            \"ID\": record_id,\n",
    "            \"EMOTION_ID\": emo_id,\n",
    "            \"MOTION_ID\": motion_id\n",
    "        })\n",
    "        record_id += 1\n",
    "\n",
    "emotion_motion_df = pd.DataFrame(records)\n",
    "\n",
    "# 확인용 출력 (motion당 감정 개수 체크)\n",
    "print(\"감정 개수 분포 (motion_id당):\")\n",
    "print(emotion_motion_df.groupby(\"MOTION_ID\")[\"EMOTION_ID\"].count().value_counts())\n",
    "\n",
    "# 저장\n",
    "save_path = r\"C:\\Users\\SongYoengEun\\Desktop\\cap\\emotion_motion_table.csv\"\n",
    "emotion_motion_df.to_csv(save_path, index=False, encoding=\"utf-8-sig\")\n",
    "print(\"저장 완료:\", save_path)\n"
   ]
  }
 ],
 "metadata": {
  "kernelspec": {
   "display_name": "Python [conda env:base] *",
   "language": "python",
   "name": "conda-base-py"
  },
  "language_info": {
   "codemirror_mode": {
    "name": "ipython",
    "version": 3
   },
   "file_extension": ".py",
   "mimetype": "text/x-python",
   "name": "python",
   "nbconvert_exporter": "python",
   "pygments_lexer": "ipython3",
   "version": "3.12.3"
  }
 },
 "nbformat": 4,
 "nbformat_minor": 5
}
